{
 "cells": [
  {
   "cell_type": "code",
   "execution_count": 9,
   "metadata": {},
   "outputs": [],
   "source": [
    "# coding: utf-8\n",
    "import pandas as pd\n",
    "\n",
    "# load data\n",
    "data = pd.read_csv(\"https://docs.google.com/spreadsheets/d/e/2PACX-1vRL_OqBRKS_FDjqoVvOfMnL5sRjuPRW0u9KAGt1HSAc8mLWSF6QrGxg67ERcVkOY9InrG9slMkSnGnC/pub?gid=0&single=true&output=csv\", encoding = 'latin-1')\n",
    "\n",
    "#clean data\n",
    "data = data.sort_values('order', ascending=True).reset_index()\n",
    "\n",
    "#list items\n",
    "items = []\n",
    "\n",
    "def build_html(df, link_type):\n",
    "    items = []\n",
    "    data = df[df['type'] == link_type].reset_index()\n",
    "    for row in range(len(data)):\n",
    "        title = data.loc[row,'title'].strip().upper()\n",
    "        link = data.loc[row,'link'].strip()\n",
    "        source = data.loc[row, 'source']\n",
    "        author = data.loc[row, 'author']\n",
    "        date = data.loc[row, 'date']\n",
    "        item = \"\"\"\n",
    "<h3><a href=\"{}\">{}</a></h3>\n",
    "{}, {}, {}\"\"\".format(link, title, source, author, date)\n",
    "        items.append(item)\n",
    "    pre = \"\"\"<h2> {}</h2>\"\"\".format(link_type)\n",
    "    post = \"<hr>\"\n",
    "    html = pre + ''.join(items) + post\n",
    "    html = html.replace('nan,', '')\n",
    "    return html\n",
    "\n",
    "l_lists = []\n",
    "for l_type in list(set(data['type'])):\n",
    "    l_html = build_html(data, l_type)\n",
    "    l_lists.append(l_html) \n",
    "\n",
    "html = ''.join(l_lists)\n",
    "                                                            \n",
    "with open(\"news_links.html\", \"w\") as html_file:\n",
    "                  html_file.write(html)"
   ]
  },
  {
   "cell_type": "code",
   "execution_count": null,
   "metadata": {},
   "outputs": [],
   "source": []
  }
 ],
 "metadata": {
  "kernelspec": {
   "display_name": "coc_2018",
   "language": "python",
   "name": "coc_2018"
  },
  "language_info": {
   "codemirror_mode": {
    "name": "ipython",
    "version": 3
   },
   "file_extension": ".py",
   "mimetype": "text/x-python",
   "name": "python",
   "nbconvert_exporter": "python",
   "pygments_lexer": "ipython3",
   "version": "3.6.3"
  }
 },
 "nbformat": 4,
 "nbformat_minor": 2
}
