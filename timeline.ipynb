{
 "cells": [
  {
   "cell_type": "code",
   "execution_count": 1,
   "metadata": {},
   "outputs": [],
   "source": [
    "import pandas as pd"
   ]
  },
  {
   "cell_type": "code",
   "execution_count": 2,
   "metadata": {},
   "outputs": [],
   "source": [
    "data = pd.read_csv(\"https://docs.google.com/spreadsheets/d/e/2PACX-1vRWJb_ArGuAv1bFfuI1LErzd5J8SYUoWFH4VrgKFvPJy01Yj8PhP-wg5rNTUXyKcOYw24LFhscgAMCh/pub?output=csv\")"
   ]
  },
  {
   "cell_type": "code",
   "execution_count": 3,
   "metadata": {},
   "outputs": [],
   "source": [
    "data['date'] = pd.to_datetime(data['date'])"
   ]
  },
  {
   "cell_type": "code",
   "execution_count": 4,
   "metadata": {},
   "outputs": [],
   "source": [
    "data = data.sort_values('date', ascending=True).reset_index()"
   ]
  },
  {
   "cell_type": "code",
   "execution_count": 5,
   "metadata": {},
   "outputs": [
    {
     "data": {
      "text/html": [
       "<div>\n",
       "<style scoped>\n",
       "    .dataframe tbody tr th:only-of-type {\n",
       "        vertical-align: middle;\n",
       "    }\n",
       "\n",
       "    .dataframe tbody tr th {\n",
       "        vertical-align: top;\n",
       "    }\n",
       "\n",
       "    .dataframe thead th {\n",
       "        text-align: right;\n",
       "    }\n",
       "</style>\n",
       "<table border=\"1\" class=\"dataframe\">\n",
       "  <thead>\n",
       "    <tr style=\"text-align: right;\">\n",
       "      <th></th>\n",
       "      <th>index</th>\n",
       "      <th>date</th>\n",
       "      <th>label</th>\n",
       "      <th>text</th>\n",
       "      <th>link</th>\n",
       "      <th>enrollment</th>\n",
       "      <th>school enrollment</th>\n",
       "    </tr>\n",
       "  </thead>\n",
       "  <tbody>\n",
       "    <tr>\n",
       "      <th>54</th>\n",
       "      <td>47</td>\n",
       "      <td>2017-03-28</td>\n",
       "      <td>Consultants hired to explore consolidation wit...</td>\n",
       "      <td>Following the release of the 2016 FCMAT report...</td>\n",
       "      <td>http://www.smcsd.org/files/3-28-17-bd%20packet...</td>\n",
       "      <td>NaN</td>\n",
       "      <td>NaN</td>\n",
       "    </tr>\n",
       "    <tr>\n",
       "      <th>55</th>\n",
       "      <td>51</td>\n",
       "      <td>2017-06-05</td>\n",
       "      <td>Willow Creek Academy request to apply for faci...</td>\n",
       "      <td>The Sausalito Marin City school board denies W...</td>\n",
       "      <td>http://www.marinij.com/article/NO/20170605/NEW...</td>\n",
       "      <td>NaN</td>\n",
       "      <td>NaN</td>\n",
       "    </tr>\n",
       "    <tr>\n",
       "      <th>56</th>\n",
       "      <td>48</td>\n",
       "      <td>2017-07-27</td>\n",
       "      <td>School merger proposed</td>\n",
       "      <td>Willow Creek Academy school leader proposes me...</td>\n",
       "      <td>http://www.marinij.com/article/NO/20170727/NEW...</td>\n",
       "      <td>NaN</td>\n",
       "      <td>NaN</td>\n",
       "    </tr>\n",
       "  </tbody>\n",
       "</table>\n",
       "</div>"
      ],
      "text/plain": [
       "    index       date                                              label  \\\n",
       "54     47 2017-03-28  Consultants hired to explore consolidation wit...   \n",
       "55     51 2017-06-05  Willow Creek Academy request to apply for faci...   \n",
       "56     48 2017-07-27                             School merger proposed   \n",
       "\n",
       "                                                 text  \\\n",
       "54  Following the release of the 2016 FCMAT report...   \n",
       "55  The Sausalito Marin City school board denies W...   \n",
       "56  Willow Creek Academy school leader proposes me...   \n",
       "\n",
       "                                                 link  enrollment  \\\n",
       "54  http://www.smcsd.org/files/3-28-17-bd%20packet...         NaN   \n",
       "55  http://www.marinij.com/article/NO/20170605/NEW...         NaN   \n",
       "56  http://www.marinij.com/article/NO/20170727/NEW...         NaN   \n",
       "\n",
       "   school enrollment  \n",
       "54               NaN  \n",
       "55               NaN  \n",
       "56               NaN  "
      ]
     },
     "execution_count": 5,
     "metadata": {},
     "output_type": "execute_result"
    }
   ],
   "source": [
    "data.tail(3)"
   ]
  },
  {
   "cell_type": "code",
   "execution_count": 6,
   "metadata": {},
   "outputs": [],
   "source": [
    "header = \"\"\"\n",
    "<!DOCTYPE html>\n",
    "<html>\n",
    "\n",
    "<head>\n",
    "    <link rel=\"stylesheet\" href=\"styles.css\">\n",
    "</head>\n",
    "\n",
    "<body>\n",
    "    <ul class=\"timeline\">\n",
    "\"\"\" "
   ]
  },
  {
   "cell_type": "code",
   "execution_count": 7,
   "metadata": {},
   "outputs": [],
   "source": [
    "footer = \"\"\"\n",
    "        </ul>\n",
    "    </body>\n",
    "</html>\n",
    "\"\"\""
   ]
  },
  {
   "cell_type": "code",
   "execution_count": 8,
   "metadata": {},
   "outputs": [
    {
     "name": "stdout",
     "output_type": "stream",
     "text": [
      "'float' object has no attribute 'strip'\n"
     ]
    }
   ],
   "source": [
    "items = []\n",
    "for row in range(len(data)):\n",
    "    try: \n",
    "        text = data.loc[row,'text'].strip()\n",
    "        label = data.loc[row,'label']\n",
    "        if '*Exact date' in text:\n",
    "            date = data.loc[row,'date'].strftime('%Y')\n",
    "        else: \n",
    "            date = data.loc[row,'date'].strftime('%B %Y')\n",
    "        if data.loc[row,'link'] == 'None': \n",
    "            link = ''\n",
    "        else: \n",
    "            link = \"\"\"<br><a href=\"{}\">Read Source</a>\"\"\".format(data.loc[row,'link'])\n",
    "        item = \"\"\"<li>\n",
    "            <p class=\"timeline-date\">{}</p>\n",
    "                <div class=\"timeline-content\">\n",
    "                <h3>{}</h3>\n",
    "                <p>{} {}</p>\n",
    "                </div>\n",
    "            </li>\"\"\".format(date, \n",
    "                            label, \n",
    "                            text, \n",
    "                            link)\n",
    "        items.append(item)\n",
    "    except Exception as e: \n",
    "        print(e)"
   ]
  },
  {
   "cell_type": "code",
   "execution_count": 9,
   "metadata": {},
   "outputs": [],
   "source": [
    "ul = ''.join(items)"
   ]
  },
  {
   "cell_type": "code",
   "execution_count": 10,
   "metadata": {},
   "outputs": [],
   "source": [
    "html = header + ul + footer"
   ]
  },
  {
   "cell_type": "code",
   "execution_count": 11,
   "metadata": {},
   "outputs": [],
   "source": [
    "with open(\"index.html\", \"w\") as html_file:\n",
    "    html_file.write(html)"
   ]
  },
  {
   "cell_type": "code",
   "execution_count": null,
   "metadata": {},
   "outputs": [],
   "source": []
  }
 ],
 "metadata": {
  "kernelspec": {
   "display_name": "Python 3",
   "language": "python",
   "name": "python3"
  },
  "language_info": {
   "codemirror_mode": {
    "name": "ipython",
    "version": 3
   },
   "file_extension": ".py",
   "mimetype": "text/x-python",
   "name": "python",
   "nbconvert_exporter": "python",
   "pygments_lexer": "ipython3",
   "version": "3.6.3"
  }
 },
 "nbformat": 4,
 "nbformat_minor": 2
}
