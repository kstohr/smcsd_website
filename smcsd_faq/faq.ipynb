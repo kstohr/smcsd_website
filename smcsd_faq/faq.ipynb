{
 "cells": [
  {
   "cell_type": "code",
   "execution_count": 79,
   "metadata": {},
   "outputs": [],
   "source": [
    "# coding: utf-8\n",
    "import pandas as pd\n",
    "\n",
    "# load data\n",
    "data = pd.read_csv(\"https://docs.google.com/spreadsheets/d/e/2PACX-1vTxXDbXulcbfeyzHUokMuT8jFMpwCKjq5VtZZCeUnt6k5LHgrHAaR_Cw2rpfutaA9HtrNTr802gPzET/pub?output=csv\")"
   ]
  },
  {
   "cell_type": "code",
   "execution_count": 80,
   "metadata": {},
   "outputs": [],
   "source": [
    "#clean dataa\n",
    "data = data.sort_values('order', ascending=True).reset_index()"
   ]
  },
  {
   "cell_type": "code",
   "execution_count": 81,
   "metadata": {},
   "outputs": [],
   "source": [
    "#list items\n",
    "items = []\n",
    "for row in range(len(data)):\n",
    "    text = data.loc[row,'text']\n",
    "    if text: \n",
    "        text = text.strip()\n",
    "    question = data.loc[row,'question']\n",
    "    number = data.loc[row, 'order']\n",
    "    links = data.loc[row,'link']\n",
    "    links_text = data.loc[row,'link_text']\n",
    "    embed = data.loc[row, 'embed']\n",
    "    chart_data = data.loc[row, 'chart_data']\n",
    "    chart_data_link = data.loc[row, 'chart_data_link']\n",
    "    if links == 'None':\n",
    "        item = \"\"\"\n",
    "        <h2>{}. {}</h2>\n",
    "        <p>{}</p>\n",
    "        \"\"\".format(number, question, text)\n",
    "    else:\n",
    "        try: \n",
    "            links = links.split(',')\n",
    "            links_text =  links_text.split(',')\n",
    "            a_links = []\n",
    "            for n in range(len(links)):      \n",
    "                html_link = \"\"\"<br><a href=\"{}\" style=\"color:#e24612\">{}</a>\"\"\".format(links[n], links_text[n])\n",
    "                a_links.append(html_link)\n",
    "            str_links = \"\".join([str(x) for x in a_links])\n",
    "            item = \"\"\"\n",
    "            <h2>{}. {}</h2>\n",
    "            <p>{} {}</p>\n",
    "            \"\"\".format(number, question, text, str_links)\n",
    "        except Exception as e: \n",
    "            print(e)\n",
    "            pass\n",
    "    if embed != 'None': \n",
    "        embed = \"\"\"\n",
    "        <iframe src=\"{}\" height=\"400\" width=\"100%\" frameborder=\"0\" seamless=\"True\"></iframe>\n",
    "        \"\"\".format(embed)\n",
    "        chart_data_text = \"\"\"\n",
    "        <p>View chart data: <a href = \"{}\" target=\"_blank\">{}</a></p>\n",
    "        \"\"\".format(chart_data, chart_data_link)\n",
    "        item = item + embed + chart_data_text\n",
    "    items.append(item)\n",
    "html = ''.join(items)"
   ]
  },
  {
   "cell_type": "code",
   "execution_count": 82,
   "metadata": {},
   "outputs": [],
   "source": [
    "with open(\"faq.html\", \"w\") as html_file:\n",
    "    html_file.write(html)"
   ]
  },
  {
   "cell_type": "code",
   "execution_count": null,
   "metadata": {},
   "outputs": [],
   "source": []
  }
 ],
 "metadata": {
  "kernelspec": {
   "display_name": "coc_2018",
   "language": "python",
   "name": "coc_2018"
  },
  "language_info": {
   "codemirror_mode": {
    "name": "ipython",
    "version": 3
   },
   "file_extension": ".py",
   "mimetype": "text/x-python",
   "name": "python",
   "nbconvert_exporter": "python",
   "pygments_lexer": "ipython3",
   "version": "3.6.3"
  }
 },
 "nbformat": 4,
 "nbformat_minor": 2
}
